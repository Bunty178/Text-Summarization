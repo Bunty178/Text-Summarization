{
 "cells": [
  {
   "cell_type": "code",
   "execution_count": 2,
   "id": "f31a3495",
   "metadata": {},
   "outputs": [
    {
     "name": "stdout",
     "output_type": "stream",
     "text": [
      "Collecting spacy\n",
      "  Downloading spacy-3.5.0-cp39-cp39-win_amd64.whl (12.2 MB)\n",
      "Collecting murmurhash<1.1.0,>=0.28.0\n",
      "  Downloading murmurhash-1.0.9-cp39-cp39-win_amd64.whl (18 kB)\n",
      "Requirement already satisfied: setuptools in c:\\users\\bunty\\anaconda3\\lib\\site-packages (from spacy) (61.2.0)\n",
      "Collecting wasabi<1.2.0,>=0.9.1\n",
      "  Downloading wasabi-1.1.1-py3-none-any.whl (27 kB)\n",
      "Requirement already satisfied: tqdm<5.0.0,>=4.38.0 in c:\\users\\bunty\\anaconda3\\lib\\site-packages (from spacy) (4.64.0)\n",
      "Collecting spacy-loggers<2.0.0,>=1.0.0\n",
      "  Downloading spacy_loggers-1.0.4-py3-none-any.whl (11 kB)\n",
      "Collecting pathy>=0.10.0\n",
      "  Downloading pathy-0.10.1-py3-none-any.whl (48 kB)\n",
      "Requirement already satisfied: requests<3.0.0,>=2.13.0 in c:\\users\\bunty\\anaconda3\\lib\\site-packages (from spacy) (2.27.1)\n",
      "Collecting thinc<8.2.0,>=8.1.0\n",
      "  Downloading thinc-8.1.7-cp39-cp39-win_amd64.whl (1.3 MB)\n",
      "Collecting typer<0.8.0,>=0.3.0\n",
      "  Downloading typer-0.7.0-py3-none-any.whl (38 kB)\n",
      "Requirement already satisfied: jinja2 in c:\\users\\bunty\\anaconda3\\lib\\site-packages (from spacy) (2.11.3)\n",
      "Collecting spacy-legacy<3.1.0,>=3.0.11\n",
      "  Downloading spacy_legacy-3.0.12-py2.py3-none-any.whl (29 kB)\n",
      "Requirement already satisfied: packaging>=20.0 in c:\\users\\bunty\\anaconda3\\lib\\site-packages (from spacy) (21.3)\n",
      "Collecting catalogue<2.1.0,>=2.0.6\n",
      "  Downloading catalogue-2.0.8-py3-none-any.whl (17 kB)\n",
      "Collecting pydantic!=1.8,!=1.8.1,<1.11.0,>=1.7.4\n",
      "  Downloading pydantic-1.10.4-cp39-cp39-win_amd64.whl (2.1 MB)\n",
      "Collecting langcodes<4.0.0,>=3.2.0\n",
      "  Downloading langcodes-3.3.0-py3-none-any.whl (181 kB)\n",
      "Collecting preshed<3.1.0,>=3.0.2\n",
      "  Downloading preshed-3.0.8-cp39-cp39-win_amd64.whl (96 kB)\n",
      "Collecting smart-open<7.0.0,>=5.2.1\n",
      "  Downloading smart_open-6.3.0-py3-none-any.whl (56 kB)\n",
      "Collecting srsly<3.0.0,>=2.4.3\n",
      "  Downloading srsly-2.4.5-cp39-cp39-win_amd64.whl (481 kB)\n",
      "Requirement already satisfied: numpy>=1.15.0 in c:\\users\\bunty\\anaconda3\\lib\\site-packages (from spacy) (1.21.5)\n",
      "Collecting cymem<2.1.0,>=2.0.2\n",
      "  Downloading cymem-2.0.7-cp39-cp39-win_amd64.whl (30 kB)\n",
      "Requirement already satisfied: pyparsing!=3.0.5,>=2.0.2 in c:\\users\\bunty\\anaconda3\\lib\\site-packages (from packaging>=20.0->spacy) (3.0.4)\n",
      "Collecting typing-extensions>=4.2.0\n",
      "  Downloading typing_extensions-4.4.0-py3-none-any.whl (26 kB)\n",
      "Requirement already satisfied: charset-normalizer~=2.0.0 in c:\\users\\bunty\\anaconda3\\lib\\site-packages (from requests<3.0.0,>=2.13.0->spacy) (2.0.4)\n",
      "Requirement already satisfied: idna<4,>=2.5 in c:\\users\\bunty\\anaconda3\\lib\\site-packages (from requests<3.0.0,>=2.13.0->spacy) (3.3)\n",
      "Requirement already satisfied: certifi>=2017.4.17 in c:\\users\\bunty\\anaconda3\\lib\\site-packages (from requests<3.0.0,>=2.13.0->spacy) (2021.10.8)\n",
      "Requirement already satisfied: urllib3<1.27,>=1.21.1 in c:\\users\\bunty\\anaconda3\\lib\\site-packages (from requests<3.0.0,>=2.13.0->spacy) (1.26.9)\n",
      "Collecting confection<1.0.0,>=0.0.1\n",
      "  Downloading confection-0.0.4-py3-none-any.whl (32 kB)\n",
      "Collecting blis<0.8.0,>=0.7.8\n",
      "  Downloading blis-0.7.9-cp39-cp39-win_amd64.whl (7.0 MB)\n",
      "Requirement already satisfied: colorama in c:\\users\\bunty\\anaconda3\\lib\\site-packages (from tqdm<5.0.0,>=4.38.0->spacy) (0.4.4)\n",
      "Requirement already satisfied: click<9.0.0,>=7.1.1 in c:\\users\\bunty\\anaconda3\\lib\\site-packages (from typer<0.8.0,>=0.3.0->spacy) (8.0.4)\n",
      "Collecting colorama\n",
      "  Downloading colorama-0.4.6-py2.py3-none-any.whl (25 kB)\n",
      "Requirement already satisfied: MarkupSafe>=0.23 in c:\\users\\bunty\\anaconda3\\lib\\site-packages (from jinja2->spacy) (2.0.1)\n",
      "Installing collected packages: typing-extensions, colorama, catalogue, srsly, pydantic, murmurhash, cymem, wasabi, typer, smart-open, preshed, confection, blis, thinc, spacy-loggers, spacy-legacy, pathy, langcodes, spacy\n",
      "  Attempting uninstall: typing-extensions\n",
      "    Found existing installation: typing-extensions 4.1.1\n",
      "    Uninstalling typing-extensions-4.1.1:\n",
      "      Successfully uninstalled typing-extensions-4.1.1\n",
      "  Attempting uninstall: colorama\n",
      "    Found existing installation: colorama 0.4.4\n",
      "    Uninstalling colorama-0.4.4:\n",
      "      Successfully uninstalled colorama-0.4.4\n",
      "  Attempting uninstall: smart-open\n",
      "    Found existing installation: smart-open 5.1.0\n",
      "    Uninstalling smart-open-5.1.0:\n",
      "      Successfully uninstalled smart-open-5.1.0\n",
      "Successfully installed blis-0.7.9 catalogue-2.0.8 colorama-0.4.6 confection-0.0.4 cymem-2.0.7 langcodes-3.3.0 murmurhash-1.0.9 pathy-0.10.1 preshed-3.0.8 pydantic-1.10.4 smart-open-6.3.0 spacy-3.5.0 spacy-legacy-3.0.12 spacy-loggers-1.0.4 srsly-2.4.5 thinc-8.1.7 typer-0.7.0 typing-extensions-4.4.0 wasabi-1.1.1\n",
      "Collecting en-core-web-sm==3.5.0\n",
      "  Downloading https://github.com/explosion/spacy-models/releases/download/en_core_web_sm-3.5.0/en_core_web_sm-3.5.0-py3-none-any.whl (12.8 MB)\n",
      "Requirement already satisfied: spacy<3.6.0,>=3.5.0 in c:\\users\\bunty\\anaconda3\\lib\\site-packages (from en-core-web-sm==3.5.0) (3.5.0)\n",
      "Requirement already satisfied: setuptools in c:\\users\\bunty\\anaconda3\\lib\\site-packages (from spacy<3.6.0,>=3.5.0->en-core-web-sm==3.5.0) (61.2.0)\n",
      "Requirement already satisfied: langcodes<4.0.0,>=3.2.0 in c:\\users\\bunty\\anaconda3\\lib\\site-packages (from spacy<3.6.0,>=3.5.0->en-core-web-sm==3.5.0) (3.3.0)\n",
      "Requirement already satisfied: preshed<3.1.0,>=3.0.2 in c:\\users\\bunty\\anaconda3\\lib\\site-packages (from spacy<3.6.0,>=3.5.0->en-core-web-sm==3.5.0) (3.0.8)\n",
      "Requirement already satisfied: spacy-legacy<3.1.0,>=3.0.11 in c:\\users\\bunty\\anaconda3\\lib\\site-packages (from spacy<3.6.0,>=3.5.0->en-core-web-sm==3.5.0) (3.0.12)\n",
      "Requirement already satisfied: spacy-loggers<2.0.0,>=1.0.0 in c:\\users\\bunty\\anaconda3\\lib\\site-packages (from spacy<3.6.0,>=3.5.0->en-core-web-sm==3.5.0) (1.0.4)\n",
      "Requirement already satisfied: numpy>=1.15.0 in c:\\users\\bunty\\anaconda3\\lib\\site-packages (from spacy<3.6.0,>=3.5.0->en-core-web-sm==3.5.0) (1.21.5)\n",
      "Requirement already satisfied: murmurhash<1.1.0,>=0.28.0 in c:\\users\\bunty\\anaconda3\\lib\\site-packages (from spacy<3.6.0,>=3.5.0->en-core-web-sm==3.5.0) (1.0.9)\n",
      "Requirement already satisfied: packaging>=20.0 in c:\\users\\bunty\\anaconda3\\lib\\site-packages (from spacy<3.6.0,>=3.5.0->en-core-web-sm==3.5.0) (21.3)\n",
      "Requirement already satisfied: catalogue<2.1.0,>=2.0.6 in c:\\users\\bunty\\anaconda3\\lib\\site-packages (from spacy<3.6.0,>=3.5.0->en-core-web-sm==3.5.0) (2.0.8)\n",
      "Requirement already satisfied: srsly<3.0.0,>=2.4.3 in c:\\users\\bunty\\anaconda3\\lib\\site-packages (from spacy<3.6.0,>=3.5.0->en-core-web-sm==3.5.0) (2.4.5)\n",
      "Requirement already satisfied: cymem<2.1.0,>=2.0.2 in c:\\users\\bunty\\anaconda3\\lib\\site-packages (from spacy<3.6.0,>=3.5.0->en-core-web-sm==3.5.0) (2.0.7)\n",
      "Requirement already satisfied: requests<3.0.0,>=2.13.0 in c:\\users\\bunty\\anaconda3\\lib\\site-packages (from spacy<3.6.0,>=3.5.0->en-core-web-sm==3.5.0) (2.27.1)\n",
      "Requirement already satisfied: thinc<8.2.0,>=8.1.0 in c:\\users\\bunty\\anaconda3\\lib\\site-packages (from spacy<3.6.0,>=3.5.0->en-core-web-sm==3.5.0) (8.1.7)\n",
      "Requirement already satisfied: jinja2 in c:\\users\\bunty\\anaconda3\\lib\\site-packages (from spacy<3.6.0,>=3.5.0->en-core-web-sm==3.5.0) (2.11.3)\n",
      "Requirement already satisfied: wasabi<1.2.0,>=0.9.1 in c:\\users\\bunty\\anaconda3\\lib\\site-packages (from spacy<3.6.0,>=3.5.0->en-core-web-sm==3.5.0) (1.1.1)\n",
      "Requirement already satisfied: tqdm<5.0.0,>=4.38.0 in c:\\users\\bunty\\anaconda3\\lib\\site-packages (from spacy<3.6.0,>=3.5.0->en-core-web-sm==3.5.0) (4.64.0)\n",
      "Requirement already satisfied: smart-open<7.0.0,>=5.2.1 in c:\\users\\bunty\\anaconda3\\lib\\site-packages (from spacy<3.6.0,>=3.5.0->en-core-web-sm==3.5.0) (6.3.0)\n",
      "Requirement already satisfied: typer<0.8.0,>=0.3.0 in c:\\users\\bunty\\anaconda3\\lib\\site-packages (from spacy<3.6.0,>=3.5.0->en-core-web-sm==3.5.0) (0.7.0)\n",
      "Requirement already satisfied: pathy>=0.10.0 in c:\\users\\bunty\\anaconda3\\lib\\site-packages (from spacy<3.6.0,>=3.5.0->en-core-web-sm==3.5.0) (0.10.1)\n",
      "Requirement already satisfied: pydantic!=1.8,!=1.8.1,<1.11.0,>=1.7.4 in c:\\users\\bunty\\anaconda3\\lib\\site-packages (from spacy<3.6.0,>=3.5.0->en-core-web-sm==3.5.0) (1.10.4)\n",
      "Requirement already satisfied: pyparsing!=3.0.5,>=2.0.2 in c:\\users\\bunty\\anaconda3\\lib\\site-packages (from packaging>=20.0->spacy<3.6.0,>=3.5.0->en-core-web-sm==3.5.0) (3.0.4)\n",
      "Requirement already satisfied: typing-extensions>=4.2.0 in c:\\users\\bunty\\anaconda3\\lib\\site-packages (from pydantic!=1.8,!=1.8.1,<1.11.0,>=1.7.4->spacy<3.6.0,>=3.5.0->en-core-web-sm==3.5.0) (4.4.0)\n",
      "Requirement already satisfied: idna<4,>=2.5 in c:\\users\\bunty\\anaconda3\\lib\\site-packages (from requests<3.0.0,>=2.13.0->spacy<3.6.0,>=3.5.0->en-core-web-sm==3.5.0) (3.3)\n",
      "Requirement already satisfied: certifi>=2017.4.17 in c:\\users\\bunty\\anaconda3\\lib\\site-packages (from requests<3.0.0,>=2.13.0->spacy<3.6.0,>=3.5.0->en-core-web-sm==3.5.0) (2021.10.8)\n",
      "Requirement already satisfied: charset-normalizer~=2.0.0 in c:\\users\\bunty\\anaconda3\\lib\\site-packages (from requests<3.0.0,>=2.13.0->spacy<3.6.0,>=3.5.0->en-core-web-sm==3.5.0) (2.0.4)\n",
      "Requirement already satisfied: urllib3<1.27,>=1.21.1 in c:\\users\\bunty\\anaconda3\\lib\\site-packages (from requests<3.0.0,>=2.13.0->spacy<3.6.0,>=3.5.0->en-core-web-sm==3.5.0) (1.26.9)\n",
      "Requirement already satisfied: blis<0.8.0,>=0.7.8 in c:\\users\\bunty\\anaconda3\\lib\\site-packages (from thinc<8.2.0,>=8.1.0->spacy<3.6.0,>=3.5.0->en-core-web-sm==3.5.0) (0.7.9)\n",
      "Requirement already satisfied: confection<1.0.0,>=0.0.1 in c:\\users\\bunty\\anaconda3\\lib\\site-packages (from thinc<8.2.0,>=8.1.0->spacy<3.6.0,>=3.5.0->en-core-web-sm==3.5.0) (0.0.4)\n",
      "Requirement already satisfied: colorama in c:\\users\\bunty\\anaconda3\\lib\\site-packages (from tqdm<5.0.0,>=4.38.0->spacy<3.6.0,>=3.5.0->en-core-web-sm==3.5.0) (0.4.6)\n",
      "Requirement already satisfied: click<9.0.0,>=7.1.1 in c:\\users\\bunty\\anaconda3\\lib\\site-packages (from typer<0.8.0,>=0.3.0->spacy<3.6.0,>=3.5.0->en-core-web-sm==3.5.0) (8.0.4)\n",
      "Requirement already satisfied: MarkupSafe>=0.23 in c:\\users\\bunty\\anaconda3\\lib\\site-packages (from jinja2->spacy<3.6.0,>=3.5.0->en-core-web-sm==3.5.0) (2.0.1)\n",
      "Installing collected packages: en-core-web-sm\n",
      "Successfully installed en-core-web-sm-3.5.0\n",
      "\u001b[38;5;2m[+] Download and installation successful\u001b[0m\n",
      "You can now load the package via spacy.load('en_core_web_sm')\n"
     ]
    }
   ],
   "source": [
    "!pip install -U spacy\n",
    "!python -m spacy download en_core_web_sm\n"
   ]
  },
  {
   "cell_type": "code",
   "execution_count": 3,
   "id": "824e9361",
   "metadata": {},
   "outputs": [],
   "source": [
    "import spacy\n",
    "from spacy.lang.en.stop_words import STOP_WORDS\n",
    "from string import punctuation"
   ]
  },
  {
   "cell_type": "code",
   "execution_count": 6,
   "id": "935f71d6",
   "metadata": {},
   "outputs": [],
   "source": [
    "text = \"\"\"\n",
    "London: Defending Prime Minister Narendra Modi in the British Parliament, UK Prime Minister Rishi Sunak distanced himself from the BBC documentary series, saying he \"doesn't agree with the characterization\" of his Indian counterpart.\n",
    "Mr Sunak made these remarks on the controversial documentary that was raised in the British Parliament by Pakistan-origin MP Imran Hussain.\n",
    "\n",
    "\"The UK government's position on this has been clear and long-standing and hasn't changed, of course, we don't tolerate persecution where it appears anywhere but I am not sure I agree at all with the characterization that the honourable gentleman has put forward to,\" he said while responding to Hussain's question on the BBC report.\n",
    "\n",
    "UK's National broadcaster BBC aired a two-part series attacking PM Narendra Modi's tenure as Gujarat Chief Minister during the Gujarat riots of 2002. The documentary sparked outrage and was removed from select platforms.\n",
    "\n",
    "Prominent Indian-origin UK citizens condemned the series. Prominent UK Citizen Lord Rami Ranger said the \"BBC caused a great deal of hurt to over a billion Indians.\"\n",
    "\n",
    "Condemning the biased reporting of BBC, Rami tweeted, \"@BBCNews You have caused a great deal of hurt to over a billion Indians It insults a democratically elected@PMOIndia Indian Police & the Indian judiciary. We condemn the riots and loss of life & also condemn your biased reporting.\"\n",
    "\n",
    "Ministry of External Affairs also reacted to the BBC report and said that this is a completely biased copy. While addressing a weekly briefing in New Delhi, MEA Spokesperson Arindam Bagchi said, \"We think this is a propaganda piece. This has no objectivity. This is biased. Do note that this hasn't been screened in India. We don't want to answer more on this so that this doesn't get much dignity.\"\n",
    "\n",
    "He even raised questions on \"the purpose of the exercise and the agenda behind it.\"\n",
    "\n",
    "\"The documentary is a reflection of the agency and individuals that are peddling this narrative again. It makes us wonder about the purpose of the exercise and the agenda behind it; frankly, we do wish to dignify these efforts,\" he added.\n",
    "\n",
    "Referring to apparent remarks made by former UK Secretary Jack Straw in the documentary series, Bagchi said \"He (Jack Straw) seems to be referring to some internal UK report. How do I have access to that? It's a 20-year-old report. Why would we jump on it now? Just because Jack says it how do they lend it that much legitimacy.\" \"I heard words like inquiry and investigations. There is a reason why we use the colonial mindset. We don't use words loosely. What inquiry they were diplomats there...investigation, are they ruling the country? Bagchi asked.\n",
    "\"\"\""
   ]
  },
  {
   "cell_type": "code",
   "execution_count": 7,
   "id": "9356fca9",
   "metadata": {},
   "outputs": [],
   "source": [
    "stopwords = list(STOP_WORDS)"
   ]
  },
  {
   "cell_type": "code",
   "execution_count": 8,
   "id": "630afbfb",
   "metadata": {},
   "outputs": [],
   "source": [
    "nlp = spacy.load('en_core_web_sm')"
   ]
  },
  {
   "cell_type": "code",
   "execution_count": 9,
   "id": "311bb6cc",
   "metadata": {},
   "outputs": [],
   "source": [
    "doc = nlp(text)"
   ]
  },
  {
   "cell_type": "code",
   "execution_count": 10,
   "id": "fa4572f9",
   "metadata": {},
   "outputs": [
    {
     "name": "stdout",
     "output_type": "stream",
     "text": [
      "['\\n', 'London', ':', 'Defending', 'Prime', 'Minister', 'Narendra', 'Modi', 'in', 'the', 'British', 'Parliament', ',', 'UK', 'Prime', 'Minister', 'Rishi', 'Sunak', 'distanced', 'himself', 'from', 'the', 'BBC', 'documentary', 'series', ',', 'saying', 'he', '\"', 'does', \"n't\", 'agree', 'with', 'the', 'characterization', '\"', 'of', 'his', 'Indian', 'counterpart', '.', '\\n', 'Mr', 'Sunak', 'made', 'these', 'remarks', 'on', 'the', 'controversial', 'documentary', 'that', 'was', 'raised', 'in', 'the', 'British', 'Parliament', 'by', 'Pakistan', '-', 'origin', 'MP', 'Imran', 'Hussain', '.', '\\n\\n', '\"', 'The', 'UK', 'government', \"'s\", 'position', 'on', 'this', 'has', 'been', 'clear', 'and', 'long', '-', 'standing', 'and', 'has', \"n't\", 'changed', ',', 'of', 'course', ',', 'we', 'do', \"n't\", 'tolerate', 'persecution', 'where', 'it', 'appears', 'anywhere', 'but', 'I', 'am', 'not', 'sure', 'I', 'agree', 'at', 'all', 'with', 'the', 'characterization', 'that', 'the', 'honourable', 'gentleman', 'has', 'put', 'forward', 'to', ',', '\"', 'he', 'said', 'while', 'responding', 'to', 'Hussain', \"'s\", 'question', 'on', 'the', 'BBC', 'report', '.', '\\n\\n', 'UK', \"'s\", 'National', 'broadcaster', 'BBC', 'aired', 'a', 'two', '-', 'part', 'series', 'attacking', 'PM', 'Narendra', 'Modi', \"'s\", 'tenure', 'as', 'Gujarat', 'Chief', 'Minister', 'during', 'the', 'Gujarat', 'riots', 'of', '2002', '.', 'The', 'documentary', 'sparked', 'outrage', 'and', 'was', 'removed', 'from', 'select', 'platforms', '.', '\\n\\n', 'Prominent', 'Indian', '-', 'origin', 'UK', 'citizens', 'condemned', 'the', 'series', '.', 'Prominent', 'UK', 'Citizen', 'Lord', 'Rami', 'Ranger', 'said', 'the', '\"', 'BBC', 'caused', 'a', 'great', 'deal', 'of', 'hurt', 'to', 'over', 'a', 'billion', 'Indians', '.', '\"', '\\n\\n', 'Condemning', 'the', 'biased', 'reporting', 'of', 'BBC', ',', 'Rami', 'tweeted', ',', '\"', '@BBCNews', 'You', 'have', 'caused', 'a', 'great', 'deal', 'of', 'hurt', 'to', 'over', 'a', 'billion', 'Indians', 'It', 'insults', 'a', 'democratically', 'elected@PMOIndia', 'Indian', 'Police', '&', 'the', 'Indian', 'judiciary', '.', 'We', 'condemn', 'the', 'riots', 'and', 'loss', 'of', 'life', '&', 'also', 'condemn', 'your', 'biased', 'reporting', '.', '\"', '\\n\\n', 'Ministry', 'of', 'External', 'Affairs', 'also', 'reacted', 'to', 'the', 'BBC', 'report', 'and', 'said', 'that', 'this', 'is', 'a', 'completely', 'biased', 'copy', '.', 'While', 'addressing', 'a', 'weekly', 'briefing', 'in', 'New', 'Delhi', ',', 'MEA', 'Spokesperson', 'Arindam', 'Bagchi', 'said', ',', '\"', 'We', 'think', 'this', 'is', 'a', 'propaganda', 'piece', '.', 'This', 'has', 'no', 'objectivity', '.', 'This', 'is', 'biased', '.', 'Do', 'note', 'that', 'this', 'has', \"n't\", 'been', 'screened', 'in', 'India', '.', 'We', 'do', \"n't\", 'want', 'to', 'answer', 'more', 'on', 'this', 'so', 'that', 'this', 'does', \"n't\", 'get', 'much', 'dignity', '.', '\"', '\\n\\n', 'He', 'even', 'raised', 'questions', 'on', '\"', 'the', 'purpose', 'of', 'the', 'exercise', 'and', 'the', 'agenda', 'behind', 'it', '.', '\"', '\\n\\n', '\"', 'The', 'documentary', 'is', 'a', 'reflection', 'of', 'the', 'agency', 'and', 'individuals', 'that', 'are', 'peddling', 'this', 'narrative', 'again', '.', 'It', 'makes', 'us', 'wonder', 'about', 'the', 'purpose', 'of', 'the', 'exercise', 'and', 'the', 'agenda', 'behind', 'it', ';', 'frankly', ',', 'we', 'do', 'wish', 'to', 'dignify', 'these', 'efforts', ',', '\"', 'he', 'added', '.', '\\n\\n', 'Referring', 'to', 'apparent', 'remarks', 'made', 'by', 'former', 'UK', 'Secretary', 'Jack', 'Straw', 'in', 'the', 'documentary', 'series', ',', 'Bagchi', 'said', '\"', 'He', '(', 'Jack', 'Straw', ')', 'seems', 'to', 'be', 'referring', 'to', 'some', 'internal', 'UK', 'report', '.', 'How', 'do', 'I', 'have', 'access', 'to', 'that', '?', 'It', \"'s\", 'a', '20', '-', 'year', '-', 'old', 'report', '.', 'Why', 'would', 'we', 'jump', 'on', 'it', 'now', '?', 'Just', 'because', 'Jack', 'says', 'it', 'how', 'do', 'they', 'lend', 'it', 'that', 'much', 'legitimacy', '.', '\"', '\"', 'I', 'heard', 'words', 'like', 'inquiry', 'and', 'investigations', '.', 'There', 'is', 'a', 'reason', 'why', 'we', 'use', 'the', 'colonial', 'mindset', '.', 'We', 'do', \"n't\", 'use', 'words', 'loosely', '.', 'What', 'inquiry', 'they', 'were', 'diplomats', 'there', '...', 'investigation', ',', 'are', 'they', 'ruling', 'the', 'country', '?', 'Bagchi', 'asked', '.', '\\n']\n"
     ]
    }
   ],
   "source": [
    "tokens = [token.text for token in doc]\n",
    "print(tokens)"
   ]
  },
  {
   "cell_type": "code",
   "execution_count": 11,
   "id": "0aabbcfb",
   "metadata": {},
   "outputs": [
    {
     "data": {
      "text/plain": [
       "'!\"#$%&\\'()*+,-./:;<=>?@[\\\\]^_`{|}~\\n'"
      ]
     },
     "execution_count": 11,
     "metadata": {},
     "output_type": "execute_result"
    }
   ],
   "source": [
    "punctuation = punctuation + '\\n'\n",
    "punctuation"
   ]
  },
  {
   "cell_type": "code",
   "execution_count": 12,
   "id": "5c5ebc0b",
   "metadata": {},
   "outputs": [],
   "source": [
    "word_frequencies = {}\n",
    "for word in doc:\n",
    "  if word.text.lower() not in stopwords:\n",
    "    if word.text.lower() not in punctuation:\n",
    "      if word.text not in word_frequencies.keys():\n",
    "        word_frequencies[word.text] = 1\n",
    "      else:\n",
    "        word_frequencies[word.text] += 1"
   ]
  },
  {
   "cell_type": "code",
   "execution_count": 13,
   "id": "2833e8fd",
   "metadata": {},
   "outputs": [
    {
     "name": "stdout",
     "output_type": "stream",
     "text": [
      "{'London': 1, 'Defending': 1, 'Prime': 2, 'Minister': 3, 'Narendra': 2, 'Modi': 2, 'British': 2, 'Parliament': 2, 'UK': 7, 'Rishi': 1, 'Sunak': 2, 'distanced': 1, 'BBC': 6, 'documentary': 5, 'series': 4, 'saying': 1, 'agree': 2, 'characterization': 2, 'Indian': 4, 'counterpart': 1, 'Mr': 1, 'remarks': 2, 'controversial': 1, 'raised': 2, 'Pakistan': 1, 'origin': 2, 'MP': 1, 'Imran': 1, 'Hussain': 2, '\\n\\n': 8, 'government': 1, 'position': 1, 'clear': 1, 'long': 1, 'standing': 1, 'changed': 1, 'course': 1, 'tolerate': 1, 'persecution': 1, 'appears': 1, 'sure': 1, 'honourable': 1, 'gentleman': 1, 'forward': 1, 'said': 5, 'responding': 1, 'question': 1, 'report': 4, 'National': 1, 'broadcaster': 1, 'aired': 1, 'attacking': 1, 'PM': 1, 'tenure': 1, 'Gujarat': 2, 'Chief': 1, 'riots': 2, '2002': 1, 'sparked': 1, 'outrage': 1, 'removed': 1, 'select': 1, 'platforms': 1, 'Prominent': 2, 'citizens': 1, 'condemned': 1, 'Citizen': 1, 'Lord': 1, 'Rami': 2, 'Ranger': 1, 'caused': 2, 'great': 2, 'deal': 2, 'hurt': 2, 'billion': 2, 'Indians': 2, 'Condemning': 1, 'biased': 4, 'reporting': 2, 'tweeted': 1, '@BBCNews': 1, 'insults': 1, 'democratically': 1, 'elected@PMOIndia': 1, 'Police': 1, 'judiciary': 1, 'condemn': 2, 'loss': 1, 'life': 1, 'Ministry': 1, 'External': 1, 'Affairs': 1, 'reacted': 1, 'completely': 1, 'copy': 1, 'addressing': 1, 'weekly': 1, 'briefing': 1, 'New': 1, 'Delhi': 1, 'MEA': 1, 'Spokesperson': 1, 'Arindam': 1, 'Bagchi': 3, 'think': 1, 'propaganda': 1, 'piece': 1, 'objectivity': 1, 'note': 1, 'screened': 1, 'India': 1, 'want': 1, 'answer': 1, 'dignity': 1, 'questions': 1, 'purpose': 2, 'exercise': 2, 'agenda': 2, 'reflection': 1, 'agency': 1, 'individuals': 1, 'peddling': 1, 'narrative': 1, 'makes': 1, 'wonder': 1, 'frankly': 1, 'wish': 1, 'dignify': 1, 'efforts': 1, 'added': 1, 'Referring': 1, 'apparent': 1, 'Secretary': 1, 'Jack': 3, 'Straw': 2, 'referring': 1, 'internal': 1, 'access': 1, '20': 1, 'year': 1, 'old': 1, 'jump': 1, 'says': 1, 'lend': 1, 'legitimacy': 1, 'heard': 1, 'words': 2, 'like': 1, 'inquiry': 2, 'investigations': 1, 'reason': 1, 'use': 2, 'colonial': 1, 'mindset': 1, 'loosely': 1, 'diplomats': 1, '...': 1, 'investigation': 1, 'ruling': 1, 'country': 1, 'asked': 1}\n"
     ]
    }
   ],
   "source": [
    "print(word_frequencies)"
   ]
  },
  {
   "cell_type": "code",
   "execution_count": 14,
   "id": "b14f9fda",
   "metadata": {},
   "outputs": [],
   "source": [
    "max_frequency = max(word_frequencies.values())"
   ]
  },
  {
   "cell_type": "code",
   "execution_count": 15,
   "id": "24e1e512",
   "metadata": {},
   "outputs": [
    {
     "data": {
      "text/plain": [
       "8"
      ]
     },
     "execution_count": 15,
     "metadata": {},
     "output_type": "execute_result"
    }
   ],
   "source": [
    "max_frequency"
   ]
  },
  {
   "cell_type": "code",
   "execution_count": 16,
   "id": "11ba22bd",
   "metadata": {},
   "outputs": [],
   "source": [
    "for word in word_frequencies.keys():\n",
    "  word_frequencies[word] = word_frequencies[word]/max_frequency"
   ]
  },
  {
   "cell_type": "code",
   "execution_count": 17,
   "id": "06162557",
   "metadata": {},
   "outputs": [
    {
     "name": "stdout",
     "output_type": "stream",
     "text": [
      "{'London': 0.125, 'Defending': 0.125, 'Prime': 0.25, 'Minister': 0.375, 'Narendra': 0.25, 'Modi': 0.25, 'British': 0.25, 'Parliament': 0.25, 'UK': 0.875, 'Rishi': 0.125, 'Sunak': 0.25, 'distanced': 0.125, 'BBC': 0.75, 'documentary': 0.625, 'series': 0.5, 'saying': 0.125, 'agree': 0.25, 'characterization': 0.25, 'Indian': 0.5, 'counterpart': 0.125, 'Mr': 0.125, 'remarks': 0.25, 'controversial': 0.125, 'raised': 0.25, 'Pakistan': 0.125, 'origin': 0.25, 'MP': 0.125, 'Imran': 0.125, 'Hussain': 0.25, '\\n\\n': 1.0, 'government': 0.125, 'position': 0.125, 'clear': 0.125, 'long': 0.125, 'standing': 0.125, 'changed': 0.125, 'course': 0.125, 'tolerate': 0.125, 'persecution': 0.125, 'appears': 0.125, 'sure': 0.125, 'honourable': 0.125, 'gentleman': 0.125, 'forward': 0.125, 'said': 0.625, 'responding': 0.125, 'question': 0.125, 'report': 0.5, 'National': 0.125, 'broadcaster': 0.125, 'aired': 0.125, 'attacking': 0.125, 'PM': 0.125, 'tenure': 0.125, 'Gujarat': 0.25, 'Chief': 0.125, 'riots': 0.25, '2002': 0.125, 'sparked': 0.125, 'outrage': 0.125, 'removed': 0.125, 'select': 0.125, 'platforms': 0.125, 'Prominent': 0.25, 'citizens': 0.125, 'condemned': 0.125, 'Citizen': 0.125, 'Lord': 0.125, 'Rami': 0.25, 'Ranger': 0.125, 'caused': 0.25, 'great': 0.25, 'deal': 0.25, 'hurt': 0.25, 'billion': 0.25, 'Indians': 0.25, 'Condemning': 0.125, 'biased': 0.5, 'reporting': 0.25, 'tweeted': 0.125, '@BBCNews': 0.125, 'insults': 0.125, 'democratically': 0.125, 'elected@PMOIndia': 0.125, 'Police': 0.125, 'judiciary': 0.125, 'condemn': 0.25, 'loss': 0.125, 'life': 0.125, 'Ministry': 0.125, 'External': 0.125, 'Affairs': 0.125, 'reacted': 0.125, 'completely': 0.125, 'copy': 0.125, 'addressing': 0.125, 'weekly': 0.125, 'briefing': 0.125, 'New': 0.125, 'Delhi': 0.125, 'MEA': 0.125, 'Spokesperson': 0.125, 'Arindam': 0.125, 'Bagchi': 0.375, 'think': 0.125, 'propaganda': 0.125, 'piece': 0.125, 'objectivity': 0.125, 'note': 0.125, 'screened': 0.125, 'India': 0.125, 'want': 0.125, 'answer': 0.125, 'dignity': 0.125, 'questions': 0.125, 'purpose': 0.25, 'exercise': 0.25, 'agenda': 0.25, 'reflection': 0.125, 'agency': 0.125, 'individuals': 0.125, 'peddling': 0.125, 'narrative': 0.125, 'makes': 0.125, 'wonder': 0.125, 'frankly': 0.125, 'wish': 0.125, 'dignify': 0.125, 'efforts': 0.125, 'added': 0.125, 'Referring': 0.125, 'apparent': 0.125, 'Secretary': 0.125, 'Jack': 0.375, 'Straw': 0.25, 'referring': 0.125, 'internal': 0.125, 'access': 0.125, '20': 0.125, 'year': 0.125, 'old': 0.125, 'jump': 0.125, 'says': 0.125, 'lend': 0.125, 'legitimacy': 0.125, 'heard': 0.125, 'words': 0.25, 'like': 0.125, 'inquiry': 0.25, 'investigations': 0.125, 'reason': 0.125, 'use': 0.25, 'colonial': 0.125, 'mindset': 0.125, 'loosely': 0.125, 'diplomats': 0.125, '...': 0.125, 'investigation': 0.125, 'ruling': 0.125, 'country': 0.125, 'asked': 0.125}\n"
     ]
    }
   ],
   "source": [
    "print(word_frequencies)"
   ]
  },
  {
   "cell_type": "code",
   "execution_count": 18,
   "id": "ee6aa53a",
   "metadata": {},
   "outputs": [
    {
     "name": "stdout",
     "output_type": "stream",
     "text": [
      "[\n",
      "London: Defending Prime Minister Narendra Modi in the British Parliament, UK Prime Minister Rishi Sunak distanced himself from the BBC documentary series, saying he \"doesn't agree with the characterization\" of his Indian counterpart.\n",
      ", Mr Sunak made these remarks on the controversial documentary that was raised in the British Parliament by Pakistan-origin MP Imran Hussain.\n",
      "\n",
      ", \"The UK government's position on this has been clear and long-standing and hasn't changed, of course, we don't tolerate persecution where it appears anywhere but I am not sure I agree at all with the characterization that the honourable gentleman has put forward to,\" he said while responding to Hussain's question on the BBC report.\n",
      "\n",
      ", UK's National broadcaster BBC aired a two-part series attacking PM Narendra Modi's tenure as Gujarat Chief Minister during the Gujarat riots of 2002., The documentary sparked outrage and was removed from select platforms.\n",
      "\n",
      ", Prominent Indian-origin UK citizens condemned the series., Prominent UK Citizen Lord Rami Ranger said the \"BBC caused a great deal of hurt to over a billion Indians.\"\n",
      "\n",
      ", Condemning the biased reporting of BBC, Rami tweeted, \"@BBCNews You have caused a great deal of hurt to over a billion Indians It insults a democratically elected@PMOIndia Indian Police & the Indian judiciary., We condemn the riots and loss of life & also condemn your biased reporting., \"\n",
      "\n",
      "Ministry of External Affairs also reacted to the BBC report and said that this is a completely biased copy., While addressing a weekly briefing in New Delhi, MEA Spokesperson Arindam Bagchi said, \"We think this is a propaganda piece., This has no objectivity., This is biased., Do note that this hasn't been screened in India., We don't want to answer more on this so that this doesn't get much dignity., \"\n",
      "\n",
      "He even raised questions on \"the purpose of the exercise and the agenda behind it., \"\n",
      "\n",
      "\"The documentary is a reflection of the agency and individuals that are peddling this narrative again., It makes us wonder about the purpose of the exercise and the agenda behind it; frankly, we do wish to dignify these efforts,\" he added.\n",
      "\n",
      ", Referring to apparent remarks made by former UK Secretary Jack Straw in the documentary series, Bagchi said \"He (Jack Straw) seems to be referring to some internal UK report., How do I have access to that?, It's a 20-year-old report., Why would we jump on it now?, Just because Jack says it how do they lend it that much legitimacy.\", \"I heard words like inquiry and investigations., There is a reason why we use the colonial mindset., We don't use words loosely., What inquiry they were diplomats there...investigation, are they ruling the country?, Bagchi asked.\n",
      "]\n"
     ]
    }
   ],
   "source": [
    "sentence_tokens = [sent for sent in doc.sents]\n",
    "print(sentence_tokens)"
   ]
  },
  {
   "cell_type": "code",
   "execution_count": 19,
   "id": "345b0dfb",
   "metadata": {},
   "outputs": [],
   "source": [
    "sentence_scores = {}\n",
    "for sent in sentence_tokens:\n",
    "  for word in sent:\n",
    "    if word.text.lower() in word_frequencies.keys():\n",
    "      if sent not in sentence_scores.keys():\n",
    "        sentence_scores[sent] = word_frequencies[word.text.lower()]\n",
    "      else:\n",
    "        sentence_scores[sent] += word_frequencies[word.text.lower()]"
   ]
  },
  {
   "cell_type": "code",
   "execution_count": 20,
   "id": "56444441",
   "metadata": {},
   "outputs": [
    {
     "data": {
      "text/plain": [
       "{\n",
       " London: Defending Prime Minister Narendra Modi in the British Parliament, UK Prime Minister Rishi Sunak distanced himself from the BBC documentary series, saying he \"doesn't agree with the characterization\" of his Indian counterpart.: 2.0,\n",
       " Mr Sunak made these remarks on the controversial documentary that was raised in the British Parliament by Pakistan-origin MP Imran Hussain.\n",
       " : 2.5,\n",
       " \"The UK government's position on this has been clear and long-standing and hasn't changed, of course, we don't tolerate persecution where it appears anywhere but I am not sure I agree at all with the characterization that the honourable gentleman has put forward to,\" he said while responding to Hussain's question on the BBC report.\n",
       " : 4.625,\n",
       " UK's National broadcaster BBC aired a two-part series attacking PM Narendra Modi's tenure as Gujarat Chief Minister during the Gujarat riots of 2002.: 1.375,\n",
       " The documentary sparked outrage and was removed from select platforms.\n",
       " : 2.25,\n",
       " Prominent Indian-origin UK citizens condemned the series.: 1.0,\n",
       " Prominent UK Citizen Lord Rami Ranger said the \"BBC caused a great deal of hurt to over a billion Indians.\"\n",
       " : 2.875,\n",
       " Condemning the biased reporting of BBC, Rami tweeted, \"@BBCNews You have caused a great deal of hurt to over a billion Indians It insults a democratically elected@PMOIndia Indian Police & the Indian judiciary.: 2.5,\n",
       " We condemn the riots and loss of life & also condemn your biased reporting.: 1.75,\n",
       " \"\n",
       " \n",
       " Ministry of External Affairs also reacted to the BBC report and said that this is a completely biased copy.: 3.0,\n",
       " While addressing a weekly briefing in New Delhi, MEA Spokesperson Arindam Bagchi said, \"We think this is a propaganda piece.: 1.375,\n",
       " This has no objectivity.: 0.125,\n",
       " This is biased.: 0.5,\n",
       " Do note that this hasn't been screened in India.: 0.25,\n",
       " We don't want to answer more on this so that this doesn't get much dignity.: 0.375,\n",
       " \"\n",
       " \n",
       " He even raised questions on \"the purpose of the exercise and the agenda behind it.: 2.125,\n",
       " \"\n",
       " \n",
       " \"The documentary is a reflection of the agency and individuals that are peddling this narrative again.: 2.25,\n",
       " It makes us wonder about the purpose of the exercise and the agenda behind it; frankly, we do wish to dignify these efforts,\" he added.\n",
       " : 2.625,\n",
       " Referring to apparent remarks made by former UK Secretary Jack Straw in the documentary series, Bagchi said \"He (Jack Straw) seems to be referring to some internal UK report.: 3.0,\n",
       " How do I have access to that?: 0.125,\n",
       " It's a 20-year-old report.: 0.875,\n",
       " Why would we jump on it now?: 0.125,\n",
       " Just because Jack says it how do they lend it that much legitimacy.\": 0.375,\n",
       " \"I heard words like inquiry and investigations.: 0.875,\n",
       " There is a reason why we use the colonial mindset.: 0.625,\n",
       " We don't use words loosely.: 0.625,\n",
       " What inquiry they were diplomats there...investigation, are they ruling the country?: 0.875,\n",
       " Bagchi asked.: 0.125}"
      ]
     },
     "execution_count": 20,
     "metadata": {},
     "output_type": "execute_result"
    }
   ],
   "source": [
    "sentence_scores"
   ]
  },
  {
   "cell_type": "code",
   "execution_count": 21,
   "id": "482f7642",
   "metadata": {},
   "outputs": [],
   "source": [
    "from heapq import nlargest"
   ]
  },
  {
   "cell_type": "code",
   "execution_count": 22,
   "id": "4d0faaef",
   "metadata": {},
   "outputs": [
    {
     "data": {
      "text/plain": [
       "8"
      ]
     },
     "execution_count": 22,
     "metadata": {},
     "output_type": "execute_result"
    }
   ],
   "source": [
    "select_length = int(len(sentence_tokens)*0.3)\n",
    "select_length"
   ]
  },
  {
   "cell_type": "code",
   "execution_count": 25,
   "id": "8cddf005",
   "metadata": {},
   "outputs": [],
   "source": [
    "summary = nlargest(select_length, sentence_scores, key = sentence_scores.get)"
   ]
  },
  {
   "cell_type": "code",
   "execution_count": 26,
   "id": "91467be2",
   "metadata": {},
   "outputs": [],
   "source": [
    "final_summary = [word.text for word in summary]"
   ]
  },
  {
   "cell_type": "code",
   "execution_count": 27,
   "id": "5e44e1e5",
   "metadata": {},
   "outputs": [],
   "source": [
    "summary = ' '.join(final_summary)"
   ]
  },
  {
   "cell_type": "code",
   "execution_count": 28,
   "id": "62b4e589",
   "metadata": {},
   "outputs": [
    {
     "name": "stdout",
     "output_type": "stream",
     "text": [
      "\n",
      "London: Defending Prime Minister Narendra Modi in the British Parliament, UK Prime Minister Rishi Sunak distanced himself from the BBC documentary series, saying he \"doesn't agree with the characterization\" of his Indian counterpart.\n",
      "Mr Sunak made these remarks on the controversial documentary that was raised in the British Parliament by Pakistan-origin MP Imran Hussain.\n",
      "\n",
      "\"The UK government's position on this has been clear and long-standing and hasn't changed, of course, we don't tolerate persecution where it appears anywhere but I am not sure I agree at all with the characterization that the honourable gentleman has put forward to,\" he said while responding to Hussain's question on the BBC report.\n",
      "\n",
      "UK's National broadcaster BBC aired a two-part series attacking PM Narendra Modi's tenure as Gujarat Chief Minister during the Gujarat riots of 2002. The documentary sparked outrage and was removed from select platforms.\n",
      "\n",
      "Prominent Indian-origin UK citizens condemned the series. Prominent UK Citizen Lord Rami Ranger said the \"BBC caused a great deal of hurt to over a billion Indians.\"\n",
      "\n",
      "Condemning the biased reporting of BBC, Rami tweeted, \"@BBCNews You have caused a great deal of hurt to over a billion Indians It insults a democratically elected@PMOIndia Indian Police & the Indian judiciary. We condemn the riots and loss of life & also condemn your biased reporting.\"\n",
      "\n",
      "Ministry of External Affairs also reacted to the BBC report and said that this is a completely biased copy. While addressing a weekly briefing in New Delhi, MEA Spokesperson Arindam Bagchi said, \"We think this is a propaganda piece. This has no objectivity. This is biased. Do note that this hasn't been screened in India. We don't want to answer more on this so that this doesn't get much dignity.\"\n",
      "\n",
      "He even raised questions on \"the purpose of the exercise and the agenda behind it.\"\n",
      "\n",
      "\"The documentary is a reflection of the agency and individuals that are peddling this narrative again. It makes us wonder about the purpose of the exercise and the agenda behind it; frankly, we do wish to dignify these efforts,\" he added.\n",
      "\n",
      "Referring to apparent remarks made by former UK Secretary Jack Straw in the documentary series, Bagchi said \"He (Jack Straw) seems to be referring to some internal UK report. How do I have access to that? It's a 20-year-old report. Why would we jump on it now? Just because Jack says it how do they lend it that much legitimacy.\" \"I heard words like inquiry and investigations. There is a reason why we use the colonial mindset. We don't use words loosely. What inquiry they were diplomats there...investigation, are they ruling the country? Bagchi asked.\n",
      "\n"
     ]
    }
   ],
   "source": [
    "print(text)"
   ]
  },
  {
   "cell_type": "code",
   "execution_count": 29,
   "id": "6d4d4ec4",
   "metadata": {},
   "outputs": [
    {
     "name": "stdout",
     "output_type": "stream",
     "text": [
      "\"The UK government's position on this has been clear and long-standing and hasn't changed, of course, we don't tolerate persecution where it appears anywhere but I am not sure I agree at all with the characterization that the honourable gentleman has put forward to,\" he said while responding to Hussain's question on the BBC report.\n",
      "\n",
      " \"\n",
      "\n",
      "Ministry of External Affairs also reacted to the BBC report and said that this is a completely biased copy. Referring to apparent remarks made by former UK Secretary Jack Straw in the documentary series, Bagchi said \"He (Jack Straw) seems to be referring to some internal UK report. Prominent UK Citizen Lord Rami Ranger said the \"BBC caused a great deal of hurt to over a billion Indians.\"\n",
      "\n",
      " It makes us wonder about the purpose of the exercise and the agenda behind it; frankly, we do wish to dignify these efforts,\" he added.\n",
      "\n",
      " Mr Sunak made these remarks on the controversial documentary that was raised in the British Parliament by Pakistan-origin MP Imran Hussain.\n",
      "\n",
      " Condemning the biased reporting of BBC, Rami tweeted, \"@BBCNews You have caused a great deal of hurt to over a billion Indians It insults a democratically elected@PMOIndia Indian Police & the Indian judiciary. The documentary sparked outrage and was removed from select platforms.\n",
      "\n",
      "\n"
     ]
    }
   ],
   "source": [
    "print(summary)"
   ]
  },
  {
   "cell_type": "code",
   "execution_count": null,
   "id": "24f2ddb7",
   "metadata": {},
   "outputs": [],
   "source": []
  }
 ],
 "metadata": {
  "kernelspec": {
   "display_name": "Python 3 (ipykernel)",
   "language": "python",
   "name": "python3"
  },
  "language_info": {
   "codemirror_mode": {
    "name": "ipython",
    "version": 3
   },
   "file_extension": ".py",
   "mimetype": "text/x-python",
   "name": "python",
   "nbconvert_exporter": "python",
   "pygments_lexer": "ipython3",
   "version": "3.9.12"
  }
 },
 "nbformat": 4,
 "nbformat_minor": 5
}
